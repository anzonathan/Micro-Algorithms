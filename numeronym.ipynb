{
 "cells": [
  {
   "cell_type": "markdown",
   "metadata": {},
   "source": [
    "# Numeronyms\n",
    "\n",
    "My first encounter with a numeronym was not the common i18n but rather a16z. While listening to an acquired podcast, I finally understood why the notable VC fund, Andreesen Horowitz, was also known as a16z. Marc Andreesen, co-founder of netscape, who was a programmer abreviated his firm's name as a numeronym. \n",
    "\n",
    "I have since fallen in love with the notion, and have even done so for my own company, baseline (b6e).\n",
    "\n",
    "I wrote this implemntation in both python and java. "
   ]
  },
  {
   "cell_type": "code",
   "execution_count": 17,
   "metadata": {},
   "outputs": [],
   "source": [
    "def compress(decomp): #compression function\n",
    "    count=len(decomp)-2\n",
    "\n",
    "    return f\"{decomp[0]}{count}{decomp[len(decomp)-1]}\"\n"
   ]
  },
  {
   "cell_type": "code",
   "execution_count": 20,
   "metadata": {},
   "outputs": [
    {
     "name": "stdout",
     "output_type": "stream",
     "text": [
      "i18n\n"
     ]
    }
   ],
   "source": [
    "decomp = \"internationalization\" #Decompressed string\n",
    "comp = compress(decomp)\n",
    "\n",
    "print(comp)\n"
   ]
  }
 ],
 "metadata": {
  "kernelspec": {
   "display_name": "3.12.4",
   "language": "python",
   "name": "python3"
  },
  "language_info": {
   "codemirror_mode": {
    "name": "ipython",
    "version": 3
   },
   "file_extension": ".py",
   "mimetype": "text/x-python",
   "name": "python",
   "nbconvert_exporter": "python",
   "pygments_lexer": "ipython3",
   "version": "3.12.4"
  }
 },
 "nbformat": 4,
 "nbformat_minor": 2
}
